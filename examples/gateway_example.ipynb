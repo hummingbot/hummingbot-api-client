{
 "cells": [
  {
   "cell_type": "markdown",
   "id": "initial_markdown",
   "metadata": {},
   "source": [
    "# Gateway Router Example\n",
    "\n",
    "This notebook demonstrates how to use the Gateway router for managing the Gateway container and DEX operations.\n",
    "\n",
    "The Gateway router provides functionality for:\n",
    "- Container management (start, stop, status, logs)\n",
    "- DEX connector configuration\n",
    "- Network management\n",
    "- Pool management\n",
    "- Token discovery"
   ]
  },
  {
   "cell_type": "markdown",
   "id": "setup_markdown",
   "metadata": {},
   "source": [
    "## Setup\n",
    "\n",
    "Initialize the Hummingbot API client."
   ]
  },
  {
   "cell_type": "code",
   "id": "initial_id",
   "metadata": {
    "ExecuteTime": {
     "end_time": "2025-10-17T14:25:10.860110Z",
     "start_time": "2025-10-17T14:25:10.781541Z"
    }
   },
   "source": [
    "from hummingbot_api_client import HummingbotAPIClient\n",
    "\n",
    "client = HummingbotAPIClient(base_url='http://localhost:8000')\n",
    "await client.init()"
   ],
   "outputs": [],
   "execution_count": 1
  },
  {
   "cell_type": "markdown",
   "id": "container_markdown",
   "metadata": {},
   "source": [
    "## Container Management\n",
    "\n",
    "Manage the Gateway Docker container."
   ]
  },
  {
   "cell_type": "code",
   "id": "status_cell",
   "metadata": {
    "ExecuteTime": {
     "end_time": "2025-10-17T14:25:13.443793Z",
     "start_time": "2025-10-17T14:25:13.412807Z"
    }
   },
   "source": [
    "# Get Gateway container status\n",
    "status = await client.gateway.get_status()\n",
    "status"
   ],
   "outputs": [
    {
     "data": {
      "text/plain": [
       "{'running': True,\n",
       " 'container_id': 'aa479985457937dfa73d0a527e9b16ae87382152adc864971089ab3afb9c993e',\n",
       " 'image': 'hummingbot/gateway:latest',\n",
       " 'created_at': '2025-10-17T14:16:20.740872044Z',\n",
       " 'port': 15888}"
      ]
     },
     "execution_count": 2,
     "metadata": {},
     "output_type": "execute_result"
    }
   ],
   "execution_count": 2
  },
  {
   "cell_type": "code",
   "id": "start_cell",
   "metadata": {
    "ExecuteTime": {
     "end_time": "2025-10-17T14:46:07.330922Z",
     "start_time": "2025-10-17T14:46:07.152757Z"
    }
   },
   "source": [
    "# Start Gateway container (configure as needed)\n",
    "config = {\n",
    "    \"image\": \"hummingbot/gateway:latest\",\n",
    "    \"port\": 15888,\n",
    "    \"passphrase\": \"a\",\n",
    "    \"environment\": {}\n",
    "}\n",
    "result = await client.gateway.start(config)\n",
    "result"
   ],
   "outputs": [
    {
     "data": {
      "text/plain": [
       "{'success': True,\n",
       " 'message': 'Gateway started successfully',\n",
       " 'container_id': 'dc3041ce9b0e5bb55081d047b41a178d15745b9ff683d120ddcc285ebb9f8d98',\n",
       " 'port': 15888}"
      ]
     },
     "execution_count": 41,
     "metadata": {},
     "output_type": "execute_result"
    }
   ],
   "execution_count": 41
  },
  {
   "cell_type": "code",
   "id": "logs_cell",
   "metadata": {
    "ExecuteTime": {
     "end_time": "2025-10-17T14:38:01.717647Z",
     "start_time": "2025-10-17T14:38:01.687752Z"
    }
   },
   "source": [
    "# Get Gateway logs (last 50 lines)\n",
    "logs = await client.gateway.get_logs(tail=50)\n",
    "print(logs.get('logs', ''))"
   ],
   "outputs": [
    {
     "name": "stdout",
     "output_type": "stream",
     "text": [
      "2025-10-17T14:37:51.939461836Z   \"error\": {},\n",
      "2025-10-17T14:37:51.939477003Z   \"rejection\": true,\n",
      "2025-10-17T14:37:51.939479170Z   \"date\": \"Fri Oct 17 2025 14:37:51 GMT+0000 (Coordinated Universal Time)\",\n",
      "2025-10-17T14:37:51.939480878Z   \"process\": {\n",
      "2025-10-17T14:37:51.939482336Z     \"pid\": 20,\n",
      "2025-10-17T14:37:51.939483711Z     \"uid\": 0,\n",
      "2025-10-17T14:37:51.939518503Z     \"gid\": 0,\n",
      "2025-10-17T14:37:51.939522461Z     \"cwd\": \"/home/gateway\",\n",
      "2025-10-17T14:37:51.939524211Z     \"execPath\": \"/usr/local/bin/node\",\n",
      "2025-10-17T14:37:51.939525586Z     \"version\": \"v20.19.4\",\n",
      "2025-10-17T14:37:51.939526961Z     \"argv\": [\n",
      "2025-10-17T14:37:51.939528211Z       \"/usr/local/bin/node\",\n",
      "2025-10-17T14:37:51.939529420Z       \"/home/gateway/dist/index.js\",\n",
      "2025-10-17T14:37:51.939530628Z       \"--dev\"\n",
      "2025-10-17T14:37:51.939531795Z     ],\n",
      "2025-10-17T14:37:51.939532878Z     \"memoryUsage\": {\n",
      "2025-10-17T14:37:51.939534086Z       \"rss\": 156086272,\n",
      "2025-10-17T14:37:51.939535253Z       \"heapTotal\": 91389952,\n",
      "2025-10-17T14:37:51.939536461Z       \"heapUsed\": 82151200,\n",
      "2025-10-17T14:37:51.939537586Z       \"external\": 3724265,\n",
      "2025-10-17T14:37:51.939538711Z       \"arrayBuffers\": 309053\n",
      "2025-10-17T14:37:51.939539878Z     }\n",
      "2025-10-17T14:37:51.939540961Z   },\n",
      "2025-10-17T14:37:51.939542045Z   \"os\": {\n",
      "2025-10-17T14:37:51.939543211Z     \"loadavg\": [\n",
      "2025-10-17T14:37:51.939544753Z       1.98,\n",
      "2025-10-17T14:37:51.939545920Z       1.67,\n",
      "2025-10-17T14:37:51.939547003Z       1.62\n",
      "2025-10-17T14:37:51.939548086Z     ],\n",
      "2025-10-17T14:37:51.939549170Z     \"uptime\": 386483.34\n",
      "2025-10-17T14:37:51.939550336Z   },\n",
      "2025-10-17T14:37:51.939551336Z   \"trace\": [\n",
      "2025-10-17T14:37:51.939552461Z     {\n",
      "2025-10-17T14:37:51.939553503Z       \"column\": 18,\n",
      "2025-10-17T14:37:51.939554795Z       \"file\": \"/home/gateway/node_modules/.pnpm/@solana+web3.js@1.98.2_bufferutil@4.0.9_encoding@0.1.13_typescript@5.8.3_utf-8-validate@5.0.10/node_modules/@solana/web3.js/lib/index.cjs.js\",\n",
      "2025-10-17T14:37:51.939556420Z       \"function\": \"ClientBrowser.callServer\",\n",
      "2025-10-17T14:37:51.939557670Z       \"line\": 5081,\n",
      "2025-10-17T14:37:51.939558836Z       \"method\": \"callServer\",\n",
      "2025-10-17T14:37:51.939560003Z       \"native\": false\n",
      "2025-10-17T14:37:51.939561170Z     },\n",
      "2025-10-17T14:37:51.939562211Z     {\n",
      "2025-10-17T14:37:51.939563253Z       \"column\": 5,\n",
      "2025-10-17T14:37:51.939564378Z       \"file\": \"node:internal/process/task_queues\",\n",
      "2025-10-17T14:37:51.939565628Z       \"function\": \"process.processTicksAndRejections\",\n",
      "2025-10-17T14:37:51.939566836Z       \"line\": 95,\n",
      "2025-10-17T14:37:51.939567961Z       \"method\": \"processTicksAndRejections\",\n",
      "2025-10-17T14:37:51.939569170Z       \"native\": false\n",
      "2025-10-17T14:37:51.939570295Z     }\n",
      "2025-10-17T14:37:51.939572961Z   ]\n",
      "2025-10-17T14:37:51.939584836Z }\n",
      "\n"
     ]
    }
   ],
   "execution_count": 32
  },
  {
   "cell_type": "code",
   "id": "stop_cell",
   "metadata": {
    "ExecuteTime": {
     "end_time": "2025-10-17T14:46:02.282502Z",
     "start_time": "2025-10-17T14:45:52.050515Z"
    }
   },
   "source": [
    "# Stop Gateway container\n",
    "result = await client.gateway.stop()\n",
    "result"
   ],
   "outputs": [
    {
     "data": {
      "text/plain": [
       "{'success': True, 'message': 'Gateway stopped successfully'}"
      ]
     },
     "execution_count": 40,
     "metadata": {},
     "output_type": "execute_result"
    }
   ],
   "execution_count": 40
  },
  {
   "cell_type": "markdown",
   "id": "connectors_markdown",
   "metadata": {},
   "source": [
    "## DEX Connectors\n",
    "\n",
    "List and configure DEX connectors."
   ]
  },
  {
   "cell_type": "code",
   "id": "list_connectors_cell",
   "metadata": {
    "ExecuteTime": {
     "end_time": "2025-10-17T14:25:52.971482Z",
     "start_time": "2025-10-17T14:25:52.948836Z"
    }
   },
   "source": [
    "# List all available DEX connectors\n",
    "connectors = await client.gateway.list_connectors()\n",
    "connectors"
   ],
   "outputs": [
    {
     "data": {
      "text/plain": [
       "{'connectors': [{'name': 'jupiter',\n",
       "   'trading_types': ['router'],\n",
       "   'chain': 'solana',\n",
       "   'networks': ['devnet', 'mainnet-beta']},\n",
       "  {'name': 'meteora',\n",
       "   'trading_types': ['clmm'],\n",
       "   'chain': 'solana',\n",
       "   'networks': ['devnet', 'mainnet-beta']},\n",
       "  {'name': 'raydium',\n",
       "   'trading_types': ['amm', 'clmm'],\n",
       "   'chain': 'solana',\n",
       "   'networks': ['devnet', 'mainnet-beta']},\n",
       "  {'name': 'uniswap',\n",
       "   'trading_types': ['amm', 'clmm', 'router'],\n",
       "   'chain': 'ethereum',\n",
       "   'networks': ['arbitrum',\n",
       "    'avalanche',\n",
       "    'base',\n",
       "    'bsc',\n",
       "    'celo',\n",
       "    'mainnet',\n",
       "    'optimism',\n",
       "    'polygon']},\n",
       "  {'name': '0x',\n",
       "   'trading_types': ['router'],\n",
       "   'chain': 'ethereum',\n",
       "   'networks': ['arbitrum',\n",
       "    'avalanche',\n",
       "    'base',\n",
       "    'bsc',\n",
       "    'mainnet',\n",
       "    'optimism',\n",
       "    'polygon']}]}"
      ]
     },
     "execution_count": 7,
     "metadata": {},
     "output_type": "execute_result"
    }
   ],
   "execution_count": 7
  },
  {
   "cell_type": "code",
   "id": "get_connector_cell",
   "metadata": {
    "ExecuteTime": {
     "end_time": "2025-10-17T14:26:08.588906Z",
     "start_time": "2025-10-17T14:26:08.572436Z"
    }
   },
   "source": [
    "# Get configuration for a specific connector (e.g., Meteora)\n",
    "config = await client.gateway.get_connector_config('meteora')\n",
    "config"
   ],
   "outputs": [
    {
     "data": {
      "text/plain": [
       "{'slippage_pct': 1, 'strategy_type': 0}"
      ]
     },
     "execution_count": 11,
     "metadata": {},
     "output_type": "execute_result"
    }
   ],
   "execution_count": 11
  },
  {
   "cell_type": "code",
   "id": "update_connector_cell",
   "metadata": {
    "ExecuteTime": {
     "end_time": "2025-10-17T14:26:13.695992Z",
     "start_time": "2025-10-17T14:26:13.678047Z"
    }
   },
   "source": [
    "# Update connector configuration (snake_case or camelCase)\n",
    "updates = {\n",
    "    \"slippage_pct\": 1.0,  # 0.5% slippage\n",
    "    # or use camelCase: \"slippagePct\": 0.5\n",
    "}\n",
    "result = await client.gateway.update_connector_config('meteora', updates)\n",
    "result"
   ],
   "outputs": [
    {
     "data": {
      "text/plain": [
       "{'success': True,\n",
       " 'message': 'Updated 1 config parameter(s) for meteora. Restart Gateway for changes to take effect.',\n",
       " 'restart_required': True,\n",
       " 'restart_endpoint': 'POST /gateway/restart',\n",
       " 'results': [{'message': \"Configuration updated successfully: 'meteora.slippagePct' set to 1\"}]}"
      ]
     },
     "execution_count": 12,
     "metadata": {},
     "output_type": "execute_result"
    }
   ],
   "execution_count": 12
  },
  {
   "cell_type": "markdown",
   "id": "chains_markdown",
   "metadata": {},
   "source": [
    "## Chains and Networks\n",
    "\n",
    "Discover available blockchain networks."
   ]
  },
  {
   "cell_type": "code",
   "id": "list_chains_cell",
   "metadata": {
    "ExecuteTime": {
     "end_time": "2025-10-17T14:26:18.309528Z",
     "start_time": "2025-10-17T14:26:18.294443Z"
    }
   },
   "source": [
    "# List all chains and their networks\n",
    "chains = await client.gateway.list_chains()\n",
    "chains"
   ],
   "outputs": [
    {
     "data": {
      "text/plain": [
       "{'chains': [{'chain': 'ethereum',\n",
       "   'networks': ['arbitrum',\n",
       "    'avalanche',\n",
       "    'base',\n",
       "    'bsc',\n",
       "    'celo',\n",
       "    'mainnet',\n",
       "    'optimism',\n",
       "    'polygon',\n",
       "    'sepolia']},\n",
       "  {'chain': 'solana', 'networks': ['devnet', 'mainnet-beta']}]}"
      ]
     },
     "execution_count": 13,
     "metadata": {},
     "output_type": "execute_result"
    }
   ],
   "execution_count": 13
  },
  {
   "cell_type": "code",
   "id": "list_networks_cell",
   "metadata": {
    "ExecuteTime": {
     "end_time": "2025-10-17T14:26:22.129312Z",
     "start_time": "2025-10-17T14:26:22.118392Z"
    }
   },
   "source": [
    "# List all networks (flattened view)\n",
    "networks = await client.gateway.list_networks()\n",
    "networks"
   ],
   "outputs": [
    {
     "data": {
      "text/plain": [
       "{'networks': [{'network_id': 'ethereum-arbitrum',\n",
       "   'chain': 'ethereum',\n",
       "   'network': 'arbitrum'},\n",
       "  {'network_id': 'ethereum-avalanche',\n",
       "   'chain': 'ethereum',\n",
       "   'network': 'avalanche'},\n",
       "  {'network_id': 'ethereum-base', 'chain': 'ethereum', 'network': 'base'},\n",
       "  {'network_id': 'ethereum-bsc', 'chain': 'ethereum', 'network': 'bsc'},\n",
       "  {'network_id': 'ethereum-celo', 'chain': 'ethereum', 'network': 'celo'},\n",
       "  {'network_id': 'ethereum-mainnet',\n",
       "   'chain': 'ethereum',\n",
       "   'network': 'mainnet'},\n",
       "  {'network_id': 'ethereum-optimism',\n",
       "   'chain': 'ethereum',\n",
       "   'network': 'optimism'},\n",
       "  {'network_id': 'ethereum-polygon',\n",
       "   'chain': 'ethereum',\n",
       "   'network': 'polygon'},\n",
       "  {'network_id': 'ethereum-sepolia',\n",
       "   'chain': 'ethereum',\n",
       "   'network': 'sepolia'},\n",
       "  {'network_id': 'solana-devnet', 'chain': 'solana', 'network': 'devnet'},\n",
       "  {'network_id': 'solana-mainnet-beta',\n",
       "   'chain': 'solana',\n",
       "   'network': 'mainnet-beta'}],\n",
       " 'count': 11}"
      ]
     },
     "execution_count": 14,
     "metadata": {},
     "output_type": "execute_result"
    }
   ],
   "execution_count": 14
  },
  {
   "cell_type": "markdown",
   "id": "network_config_markdown",
   "metadata": {},
   "source": [
    "## Network Configuration\n",
    "\n",
    "Configure specific networks (e.g., RPC endpoints)."
   ]
  },
  {
   "cell_type": "code",
   "id": "get_network_cell",
   "metadata": {
    "ExecuteTime": {
     "end_time": "2025-10-17T14:47:53.413809Z",
     "start_time": "2025-10-17T14:47:53.391409Z"
    }
   },
   "source": [
    "# Get network configuration (format: chain-network)\n",
    "config = await client.gateway.get_network_config('solana-mainnet-beta')\n",
    "config"
   ],
   "outputs": [
    {
     "data": {
      "text/plain": [
       "{'node_url': 'https://mainnet.helius-rpc.com/?api-key=a43dcfb5-df0c-45e6-b3d8-6091d0d846dd',\n",
       " 'native_currency_symbol': 'SOL',\n",
       " 'default_compute_units': 250000,\n",
       " 'confirm_retry_interval': 0.5,\n",
       " 'confirm_retry_count': 15,\n",
       " 'base_priority_fee_pct': 90,\n",
       " 'min_priority_fee_per_cu': 0.1}"
      ]
     },
     "execution_count": 42,
     "metadata": {},
     "output_type": "execute_result"
    }
   ],
   "execution_count": 42
  },
  {
   "cell_type": "code",
   "id": "update_network_cell",
   "metadata": {
    "ExecuteTime": {
     "end_time": "2025-10-17T14:45:44.178433Z",
     "start_time": "2025-10-17T14:45:44.153529Z"
    }
   },
   "source": [
    "# Update network configuration\n",
    "updates = {\n",
    "    \"node_url\": \"https://api.mainnet-beta.solana.com\",\n",
    "    # or use camelCase: \"nodeURL\": \"https://...\"\n",
    "}\n",
    "result = await client.gateway.update_network_config('solana-mainnet-beta', updates)\n",
    "result"
   ],
   "outputs": [
    {
     "data": {
      "text/plain": [
       "{'success': True,\n",
       " 'message': 'Updated 1 config parameter(s) for solana-mainnet-beta. Restart Gateway for changes to take effect.',\n",
       " 'restart_required': True,\n",
       " 'restart_endpoint': 'POST /gateway/restart',\n",
       " 'results': [{'message': 'Configuration updated successfully: \\'solana-mainnet-beta.nodeURL\\' set to \"https://mainnet.helius-rpc.com/?api-key=a43dcfb5-df0c-45e6-b3d8-6091d0d846dd\"'}]}"
      ]
     },
     "execution_count": 39,
     "metadata": {},
     "output_type": "execute_result"
    }
   ],
   "execution_count": 39
  },
  {
   "cell_type": "markdown",
   "id": "tokens_markdown",
   "metadata": {},
   "source": [
    "## Token Discovery\n",
    "\n",
    "Find available tokens on a network."
   ]
  },
  {
   "cell_type": "code",
   "id": "get_tokens_cell",
   "metadata": {
    "ExecuteTime": {
     "end_time": "2025-10-17T14:26:56.751841Z",
     "start_time": "2025-10-17T14:26:56.734147Z"
    }
   },
   "source": [
    "# Get all tokens for a network\n",
    "tokens = await client.gateway.get_network_tokens('solana-mainnet-beta')\n",
    "tokens"
   ],
   "outputs": [
    {
     "data": {
      "text/plain": [
       "{'tokens': [{'name': 'Bonk',\n",
       "   'symbol': 'BONK',\n",
       "   'address': 'DezXAZ8z7PnrnRJjz3wXBoRgixCa6xjnB7YaB1pPB263',\n",
       "   'decimals': 5},\n",
       "  {'name': 'Ethereum (Wormhole)',\n",
       "   'symbol': 'ETH',\n",
       "   'address': '7vfCXTUXx5WJV5JADk17DUJ4ksgau7utNKj4b963voxs',\n",
       "   'decimals': 8},\n",
       "  {'name': 'Helium',\n",
       "   'symbol': 'HNT',\n",
       "   'address': 'hntyVP6YFm1Hg25TN9WGLqM12b8TQmcknKrdu1oxWux',\n",
       "   'decimals': 8},\n",
       "  {'name': 'Jupiter',\n",
       "   'symbol': 'JUP',\n",
       "   'address': 'JUPyiwrYJFskUPiHa7hkeR8VUtAeFoSYbKedZNsDvCN',\n",
       "   'decimals': 6},\n",
       "  {'name': 'Marinade Staked SOL',\n",
       "   'symbol': 'MSOL',\n",
       "   'address': 'mSoLzYCxHdYgdzU16g5QSh3i5K3z3KZK7ytfqcJm7So',\n",
       "   'decimals': 9},\n",
       "  {'name': 'Pyth Network',\n",
       "   'symbol': 'PYTH',\n",
       "   'address': 'HZ1JovNiVvGrGNiiYvEozEVgZ58xaU3RKwX8eACQBCt3',\n",
       "   'decimals': 6},\n",
       "  {'name': 'Raydium',\n",
       "   'symbol': 'RAY',\n",
       "   'address': '4k3Dyjzvzp8eMZWUXbBCjEvwSkkk59S5iCNLY3QrkX6R',\n",
       "   'decimals': 6},\n",
       "  {'name': 'Wrapped Solana',\n",
       "   'symbol': 'SOL',\n",
       "   'address': 'So11111111111111111111111111111111111111112',\n",
       "   'decimals': 9},\n",
       "  {'name': 'tBTC',\n",
       "   'symbol': 'TBTC',\n",
       "   'address': '6DNSN2BJsaPFdFFc1zP37kkeNe4Usc1Sqkzr9C9vPWcU',\n",
       "   'decimals': 8},\n",
       "  {'name': 'USDC',\n",
       "   'symbol': 'USDC',\n",
       "   'address': 'EPjFWdd5AufqSSqeM2qN1xzybapC8G4wEGGkZwyTDt1v',\n",
       "   'decimals': 6},\n",
       "  {'name': 'Tether',\n",
       "   'symbol': 'USDT',\n",
       "   'address': 'Es9vMFrzaCERmJfrF4H2FYD4KCoNkY11McCe8BenwNYB',\n",
       "   'decimals': 6},\n",
       "  {'name': 'Render Token',\n",
       "   'symbol': 'RENDER',\n",
       "   'address': 'rndrizKT3MK1iimdxRdWabcF7Zg7AR5T4nud4EkHBof',\n",
       "   'decimals': 8}]}"
      ]
     },
     "execution_count": 17,
     "metadata": {},
     "output_type": "execute_result"
    }
   ],
   "execution_count": 17
  },
  {
   "cell_type": "code",
   "id": "search_tokens_cell",
   "metadata": {
    "ExecuteTime": {
     "end_time": "2025-10-17T14:27:03.654866Z",
     "start_time": "2025-10-17T14:27:03.637762Z"
    }
   },
   "source": "# Search for specific tokens (e.g., USDC)\nusdc_tokens = await client.gateway.get_network_tokens('solana-mainnet-beta', search='USDC')\nusdc_tokens",
   "outputs": [
    {
     "data": {
      "text/plain": [
       "{'tokens': [{'name': 'USDC',\n",
       "   'symbol': 'USDC',\n",
       "   'address': 'EPjFWdd5AufqSSqeM2qN1xzybapC8G4wEGGkZwyTDt1v',\n",
       "   'decimals': 6}]}"
      ]
     },
     "execution_count": 18,
     "metadata": {},
     "output_type": "execute_result"
    }
   ],
   "execution_count": 18
  },
  {
   "cell_type": "markdown",
   "id": "4cew2m4iikb",
   "source": "### Add Custom Tokens\n\nYou can add custom tokens that are not in the default token list.",
   "metadata": {}
  },
  {
   "cell_type": "code",
   "id": "6knr8meu5qq",
   "source": "# Add Fartcoin token to Solana mainnet-beta\nresult = await client.gateway.add_token(\n    network_id='solana-mainnet-beta',\n    address='9BB6NFEcjBCtnNLFko2FqVQBq8HHM13kCyYcdQbgpump',\n    symbol='FARTCOIN',\n    decimals=6,  # Check token decimals on-chain\n    name='Fartcoin'\n)\nresult",
   "metadata": {
    "ExecuteTime": {
     "end_time": "2025-10-17T14:41:05.344434Z",
     "start_time": "2025-10-17T14:41:05.322186Z"
    }
   },
   "outputs": [],
   "execution_count": null
  },
  {
   "cell_type": "code",
   "id": "7ck8eawwz5s",
   "source": "# Verify the token was added by searching for it\nfartcoin_tokens = await client.gateway.get_network_tokens('solana-mainnet-beta', search='FARTCOIN')\nfartcoin_tokens",
   "metadata": {
    "ExecuteTime": {
     "end_time": "2025-10-17T14:29:35.876697Z",
     "start_time": "2025-10-17T14:29:35.857878Z"
    }
   },
   "outputs": [],
   "execution_count": null
  },
  {
   "cell_type": "markdown",
   "id": "6jtr0h0kwg6",
   "source": "### Delete Custom Tokens\n\nRemove tokens that were previously added.\n\n**Note:** Token deletion may require the Gateway to support this feature. If you get a \"Validation Error\", it means the underlying Gateway client doesn't have the delete_token method implemented yet.",
   "metadata": {}
  },
  {
   "cell_type": "code",
   "id": "b83cnz33e3u",
   "source": "# Delete the Fartcoin token we added earlier\nresult = await client.gateway.delete_token(\n    network_id='solana-mainnet-beta',\n    token_address='9BB6NFEcjBCtnNLFko2FqVQBq8HHM13kCyYcdQbgpump'\n)\nresult",
   "metadata": {
    "ExecuteTime": {
     "end_time": "2025-10-17T14:41:02.508022Z",
     "start_time": "2025-10-17T14:41:02.485775Z"
    }
   },
   "outputs": [],
   "execution_count": null
  },
  {
   "cell_type": "code",
   "id": "ugbeldwbi0e",
   "source": "# Verify the token was deleted by searching for it\nfartcoin_tokens_after_delete = await client.gateway.get_network_tokens('solana-mainnet-beta', search='FARTCOIN')\nprint(f\"FARTCOIN tokens found: {len(fartcoin_tokens_after_delete.get('tokens', []))}\")\nfartcoin_tokens_after_delete",
   "metadata": {
    "ExecuteTime": {
     "end_time": "2025-10-17T14:29:45.050138Z",
     "start_time": "2025-10-17T14:29:45.035522Z"
    }
   },
   "outputs": [],
   "execution_count": null
  },
  {
   "cell_type": "markdown",
   "id": "pools_markdown",
   "metadata": {},
   "source": [
    "## Liquidity Pools\n",
    "\n",
    "List and manage liquidity pools for DEX connectors."
   ]
  },
  {
   "cell_type": "code",
   "id": "list_pools_cell",
   "metadata": {
    "ExecuteTime": {
     "end_time": "2025-10-17T14:29:48.039525Z",
     "start_time": "2025-10-17T14:29:48.014883Z"
    }
   },
   "source": [
    "# List pools for a connector and network\n",
    "pools = await client.gateway.list_pools(\n",
    "    connector_name='meteora',\n",
    "    network='mainnet-beta'\n",
    ")\n",
    "pools"
   ],
   "outputs": [
    {
     "data": {
      "text/plain": [
       "[{'type': 'clmm',\n",
       "  'network': 'mainnet-beta',\n",
       "  'base': 'SOL',\n",
       "  'quote': 'USDC',\n",
       "  'address': '2sf5NYcY4zUPXUSmG6f66mskb24t5F8S11pC1Nz5nQT3',\n",
       "  'trading_pair': 'SOL-USDC'},\n",
       " {'type': 'clmm',\n",
       "  'network': 'mainnet-beta',\n",
       "  'base': 'TRUMP',\n",
       "  'quote': 'USDC',\n",
       "  'address': '9d9mb8kooFfaD3SctgZtkxQypkshx6ezhbKio89ixyy2',\n",
       "  'trading_pair': 'TRUMP-USDC'},\n",
       " {'type': 'clmm',\n",
       "  'network': 'mainnet-beta',\n",
       "  'base': 'JUP',\n",
       "  'quote': 'USDC',\n",
       "  'address': '7HR1ouGwPsCyPScUCx4WJCPyktXMoLitrGkLczd7Vabx',\n",
       "  'trading_pair': 'JUP-USDC'}]"
      ]
     },
     "execution_count": 28,
     "metadata": {},
     "output_type": "execute_result"
    }
   ],
   "execution_count": 28
  },
  {
   "metadata": {},
   "cell_type": "code",
   "source": "",
   "id": "36a5658919a4e6c9",
   "outputs": [],
   "execution_count": null
  }
 ],
 "metadata": {
  "kernelspec": {
   "display_name": "Python 3",
   "language": "python",
   "name": "python3"
  },
  "language_info": {
   "codemirror_mode": {
    "name": "ipython",
    "version": 3
   },
   "file_extension": ".py",
   "mimetype": "text/x-python",
   "name": "python",
   "nbconvert_exporter": "python",
   "pygments_lexer": "ipython3",
   "version": "3.10.0"
  }
 },
 "nbformat": 4,
 "nbformat_minor": 5
}