{
 "cells": [
  {
   "cell_type": "markdown",
   "id": "initial_markdown",
   "metadata": {},
   "source": [
    "# Gateway Trading Router Example\n",
    "\n",
    "This notebook demonstrates how to use the Gateway Trading router for DEX swap operations.\n",
    "\n",
    "The Gateway Trading router provides functionality for:\n",
    "- Getting swap quotes (price discovery)\n",
    "- Executing swaps on DEX routers (Jupiter, 0x)"
   ]
  },
  {
   "cell_type": "markdown",
   "id": "setup_markdown",
   "metadata": {},
   "source": [
    "## Setup\n",
    "\n",
    "Initialize the Hummingbot API client."
   ]
  },
  {
   "cell_type": "code",
   "id": "initial_id",
   "metadata": {
    "ExecuteTime": {
     "end_time": "2025-10-17T14:48:13.937900Z",
     "start_time": "2025-10-17T14:48:13.861784Z"
    }
   },
   "source": [
    "from hummingbot_api_client import HummingbotAPIClient\n",
    "from decimal import Decimal\n",
    "\n",
    "client = HummingbotAPIClient(base_url='http://localhost:8000')\n",
    "await client.init()"
   ],
   "outputs": [],
   "execution_count": 1
  },
  {
   "cell_type": "markdown",
   "id": "quote_markdown",
   "metadata": {},
   "source": [
    "## Get Swap Quote\n",
    "\n",
    "Get a price quote for a swap without executing the transaction."
   ]
  },
  {
   "cell_type": "code",
   "id": "quote_buy_cell",
   "metadata": {
    "ExecuteTime": {
     "end_time": "2025-10-17T14:48:14.957903Z",
     "start_time": "2025-10-17T14:48:14.728700Z"
    }
   },
   "source": [
    "# Get quote for buying 1 SOL with USDC on Jupiter\n",
    "quote = await client.gateway_trading.get_swap_quote(\n",
    "    connector='jupiter',\n",
    "    network='solana-mainnet-beta',\n",
    "    trading_pair='SOL-USDC',\n",
    "    side='BUY',\n",
    "    amount=Decimal('1'),\n",
    "    slippage_pct=Decimal('1.0')  # 1% slippage\n",
    ")\n",
    "quote"
   ],
   "outputs": [
    {
     "data": {
      "text/plain": [
       "{'base': 'SOL',\n",
       " 'quote': 'USDC',\n",
       " 'price': '179.644109',\n",
       " 'amount': '1',\n",
       " 'amount_in': '179.644109',\n",
       " 'amount_out': '1',\n",
       " 'expected_amount': '1',\n",
       " 'slippage_pct': '1.0',\n",
       " 'gas_estimate': None}"
      ]
     },
     "execution_count": 2,
     "metadata": {},
     "output_type": "execute_result"
    }
   ],
   "execution_count": 2
  },
  {
   "cell_type": "code",
   "id": "quote_info_cell",
   "metadata": {
    "ExecuteTime": {
     "end_time": "2025-10-17T14:48:16.098766Z",
     "start_time": "2025-10-17T14:48:16.095058Z"
    }
   },
   "source": [
    "# Display quote information\n",
    "print(f\"Trading Pair: {quote['base']}/{quote['quote']}\")\n",
    "print(f\"Price: ${quote['price']}\")\n",
    "print(f\"Amount In: {quote['amount_in']} {quote['quote']}\")\n",
    "print(f\"Amount Out: {quote['amount_out']} {quote['base']}\")\n",
    "print(f\"Slippage: {quote['slippage_pct']}%\")\n",
    "if quote.get('gas_estimate'):\n",
    "    print(f\"Gas Estimate: {quote['gas_estimate']}\")"
   ],
   "outputs": [
    {
     "name": "stdout",
     "output_type": "stream",
     "text": [
      "Trading Pair: SOL/USDC\n",
      "Price: $179.644109\n",
      "Amount In: 179.644109 USDC\n",
      "Amount Out: 1 SOL\n",
      "Slippage: 1.0%\n"
     ]
    }
   ],
   "execution_count": 3
  },
  {
   "cell_type": "code",
   "id": "quote_sell_cell",
   "metadata": {
    "ExecuteTime": {
     "end_time": "2025-10-17T14:48:16.754641Z",
     "start_time": "2025-10-17T14:48:16.575465Z"
    }
   },
   "source": [
    "# Get quote for selling 1 SOL for USDC\n",
    "quote_sell = await client.gateway_trading.get_swap_quote(\n",
    "    connector='jupiter',\n",
    "    network='solana-mainnet-beta',\n",
    "    trading_pair='SOL-USDC',\n",
    "    side='SELL',\n",
    "    amount=Decimal('1'),\n",
    "    slippage_pct=Decimal('1.0')\n",
    ")\n",
    "\n",
    "print(f\"Selling 1 SOL:\")\n",
    "print(f\"You will receive: ~{quote_sell['amount_out']} USDC\")\n",
    "print(f\"Price: ${quote_sell['price']} per SOL\")"
   ],
   "outputs": [
    {
     "name": "stdout",
     "output_type": "stream",
     "text": [
      "Selling 1 SOL:\n",
      "You will receive: ~179.666619 USDC\n",
      "Price: $179.666619 per SOL\n"
     ]
    }
   ],
   "execution_count": 4
  },
  {
   "cell_type": "markdown",
   "id": "goldcoin_markdown",
   "metadata": {},
   "source": [
    "## Swap with Custom Tokens (LIGHT Example)\n",
    "\n",
    "Get quotes for swaps involving the custom token we added earlier."
   ]
  },
  {
   "cell_type": "code",
   "id": "quote_gold_cell",
   "metadata": {
    "ExecuteTime": {
     "end_time": "2025-10-17T14:48:20.081130Z",
     "start_time": "2025-10-17T14:48:19.899359Z"
    }
   },
   "source": [
    "# Get quote for buying GOLD with USDC\n",
    "# Note: Make sure you added GOLD token first using the gateway router\n",
    "quote_gold = await client.gateway_trading.get_swap_quote(\n",
    "    connector='jupiter',\n",
    "    network='solana-mainnet-beta',\n",
    "    trading_pair='9BB6NFEcjBCtnNLFko2FqVQBq8HHM13kCyYcdQbgpump-USDC',\n",
    "    side='BUY',\n",
    "    amount=Decimal('100'),  # Buy 100 GOLD\n",
    "    slippage_pct=Decimal('5.0')  # 2% slippage for smaller tokens\n",
    ")\n",
    "\n",
    "print(f\"Buying 100 FARTCOIN:\")\n",
    "print(f\"You will pay: ~{quote_gold['amount_in']} USDC\")\n",
    "print(f\"Price: ${quote_gold['price']} per GOLD\")"
   ],
   "outputs": [
    {
     "name": "stdout",
     "output_type": "stream",
     "text": [
      "Buying 100 FARTCOIN:\n",
      "You will pay: ~35.890788 USDC\n",
      "Price: $0.35890788 per GOLD\n"
     ]
    }
   ],
   "execution_count": 5
  },
  {
   "cell_type": "markdown",
   "id": "workflow_markdown",
   "metadata": {},
   "source": [
    "## Example Workflow: Quote and Execute\n",
    "\n",
    "Complete workflow showing how to get a quote and then execute if the price is acceptable."
   ]
  },
  {
   "cell_type": "code",
   "id": "workflow_cell",
   "metadata": {
    "ExecuteTime": {
     "end_time": "2025-10-17T14:48:44.979685Z",
     "start_time": "2025-10-17T14:48:41.420588Z"
    }
   },
   "source": [
    "# 1. Get quote\n",
    "print(\"Step 1: Getting quote...\")\n",
    "quote = await client.gateway_trading.get_swap_quote(\n",
    "    connector='jupiter',\n",
    "    network='solana-mainnet-beta',\n",
    "    trading_pair='FARTCOIN-USDT',\n",
    "    side='BUY',\n",
    "    amount=Decimal('1'),\n",
    "    slippage_pct=Decimal('1.0')\n",
    ")\n",
    "\n",
    "print(f\"Quote received:\")\n",
    "print(f\"  Price: ${quote['price']}\")\n",
    "print(f\"  You will pay: {quote['amount_in']} USDC\")\n",
    "print(f\"  You will receive: {quote['amount_out']} SOL\")\n",
    "\n",
    "# 2. Check if price is acceptable\n",
    "max_price = Decimal('200')  # Maximum price you're willing to pay\n",
    "quote_price = Decimal(str(quote['price']))\n",
    "\n",
    "print(f\"\\nStep 2: Checking price...\")\n",
    "if quote_price <= max_price:\n",
    "    print(f\"✅ Price ${quote_price} is acceptable (max: ${max_price})\")\n",
    "    print(\"\\nStep 3: Ready to execute swap\")\n",
    "\n",
    "    # 3. Execute swap (uncomment to run)\n",
    "    result = await client.gateway_trading.execute_swap(\n",
    "        connector='jupiter',\n",
    "        network='solana-mainnet-beta',\n",
    "        trading_pair='FARTCOIN-USDT',\n",
    "        side='BUY',\n",
    "        amount=Decimal('1'),\n",
    "        slippage_pct=Decimal('1.0')\n",
    "    )\n",
    "    print(f\"\\n✅ Swap executed!\")\n",
    "    print(f\"Transaction: {result['transaction_hash']}\")\n",
    "else:\n",
    "    print(f\"❌ Price ${quote_price} is too high (max: ${max_price})\")\n",
    "    print(\"Swap cancelled\")"
   ],
   "outputs": [
    {
     "name": "stdout",
     "output_type": "stream",
     "text": [
      "Step 1: Getting quote...\n",
      "Quote received:\n",
      "  Price: $0.358422\n",
      "  You will pay: 0.358422 USDC\n",
      "  You will receive: 1 SOL\n",
      "\n",
      "Step 2: Checking price...\n",
      "✅ Price $0.358422 is acceptable (max: $200)\n",
      "\n",
      "Step 3: Ready to execute swap\n",
      "\n",
      "✅ Swap executed!\n",
      "Transaction: mRVrqADMvxT4Yv2GmRnCpouTDeBi7FqkzLVrgRwbwEE5kcxH47TNGwHKeEuAPqXDaTtRot7J6WCsL2of2VyMLzQ\n"
     ]
    }
   ],
   "execution_count": 7
  },
  {
   "cell_type": "markdown",
   "id": "other_dex_markdown",
   "metadata": {},
   "source": [
    "## Using Other DEX Connectors\n",
    "\n",
    "The same methods work with other DEX routers like 0x on Ethereum networks."
   ]
  },
  {
   "cell_type": "code",
   "id": "ethereum_quote_cell",
   "metadata": {},
   "source": [
    "# Example: Get quote on Ethereum using 0x\n",
    "# quote_eth = await client.gateway_trading.get_swap_quote(\n",
    "#     connector='0x',\n",
    "#     network='ethereum-mainnet',\n",
    "#     trading_pair='ETH-USDC',\n",
    "#     side='BUY',\n",
    "#     amount=Decimal('1'),\n",
    "#     slippage_pct=Decimal('1.0')\n",
    "# )\n",
    "# quote_eth"
   ],
   "outputs": [],
   "execution_count": null
  },
  {
   "cell_type": "markdown",
   "id": "tips_markdown",
   "metadata": {},
   "source": [
    "## Tips and Best Practices\n",
    "\n",
    "1. **Always get a quote first** - Check the price and expected amounts before executing\n",
    "2. **Set appropriate slippage** - Higher slippage for volatile/illiquid tokens (2-5%), lower for stable pairs (0.5-1%)\n",
    "3. **Check gas estimates** - Make sure you have enough native tokens for gas fees\n",
    "4. **Use wallet_address parameter** - Specify which wallet to use if you have multiple configured\n",
    "5. **Monitor transaction status** - Save the transaction hash to verify on blockchain explorers\n",
    "6. **Start with small amounts** - Test with small trades before executing large swaps"
   ]
  }
 ],
 "metadata": {
  "kernelspec": {
   "display_name": "Python 3",
   "language": "python",
   "name": "python3"
  },
  "language_info": {
   "codemirror_mode": {
    "name": "ipython",
    "version": 3
   },
   "file_extension": ".py",
   "mimetype": "text/x-python",
   "name": "python",
   "nbconvert_exporter": "python",
   "pygments_lexer": "ipython3",
   "version": "3.10.0"
  }
 },
 "nbformat": 4,
 "nbformat_minor": 5
}
